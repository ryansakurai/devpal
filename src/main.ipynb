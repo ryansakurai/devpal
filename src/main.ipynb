{
 "cells": [
  {
   "cell_type": "markdown",
   "metadata": {},
   "source": [
    "# DevPal: Coding Assistant"
   ]
  },
  {
   "cell_type": "markdown",
   "metadata": {},
   "source": [
    "## Initialize Model"
   ]
  },
  {
   "cell_type": "code",
   "execution_count": 26,
   "metadata": {
    "execution": {
     "iopub.execute_input": "2025-02-17T23:49:46.541500Z",
     "iopub.status.busy": "2025-02-17T23:49:46.541065Z",
     "iopub.status.idle": "2025-02-17T23:49:46.831661Z",
     "shell.execute_reply": "2025-02-17T23:49:46.830782Z",
     "shell.execute_reply.started": "2025-02-17T23:49:46.541466Z"
    },
    "trusted": true
   },
   "outputs": [],
   "source": [
    "from dotenv import load_dotenv\n",
    "import google.generativeai as genai\n",
    "\n",
    "load_dotenv()\n",
    "genai.configure()\n",
    "gemini = genai.GenerativeModel(\n",
    "    \"gemini-2.0-flash\",\n",
    "    generation_config=genai.GenerationConfig(temperature=0.5),\n",
    ")"
   ]
  },
  {
   "cell_type": "markdown",
   "metadata": {},
   "source": [
    "## Build the Widgets"
   ]
  },
  {
   "cell_type": "code",
   "execution_count": 27,
   "metadata": {
    "execution": {
     "iopub.execute_input": "2025-02-17T23:49:46.833850Z",
     "iopub.status.busy": "2025-02-17T23:49:46.833477Z",
     "iopub.status.idle": "2025-02-17T23:49:46.859014Z",
     "shell.execute_reply": "2025-02-17T23:49:46.857861Z",
     "shell.execute_reply.started": "2025-02-17T23:49:46.833813Z"
    },
    "trusted": true
   },
   "outputs": [],
   "source": [
    "from ipywidgets import Text, Dropdown, Textarea, Layout, Button\n",
    "\n",
    "box_layout = Layout(\n",
    "    display='flex',\n",
    "    flex_flow='column',\n",
    "    align_items='center',\n",
    "    background_color='#2E2E2E',\n",
    "    padding='20px',\n",
    "    width='1300px',\n",
    "    height='800px'\n",
    ")\n",
    "\n",
    "init_prompt_input = Text(\n",
    "    value='',\n",
    "    placeholder='eg. Generate two random numbers',\n",
    "    description='Code Description:',\n",
    "    disabled=False,\n",
    "    style={'description_width': 'initial'},\n",
    "    layout=Layout(width='80%', padding='15px', border='solid 2px #444', margin='10px', justify_content='center')\n",
    ")\n",
    "\n",
    "feedback_input = Text(\n",
    "    value='',\n",
    "    placeholder='eg. Improve code efficiency',\n",
    "    description='Feedback:',\n",
    "    disabled=False,\n",
    "    style={'description_width': 'initial'},\n",
    "    layout=Layout(width='80%', padding='15px', border='solid 2px #444', margin='10px', justify_content='center')\n",
    ")\n",
    "\n",
    "history_display = Textarea(\n",
    "    value='',\n",
    "    placeholder='Code History',\n",
    "    disabled=True,\n",
    "    layout=Layout(width='40%', height='600px', margin='10px')\n",
    ")\n",
    "\n",
    "code_display = Textarea(\n",
    "    value='',\n",
    "    placeholder='Current Version',\n",
    "    disabled=True,\n",
    "    layout=Layout(width='60%', height='600px', margin='10px')\n",
    ")\n",
    "\n",
    "version_dropdown = Dropdown(\n",
    "    options=tuple(),\n",
    "    disabled=False,\n",
    "    layout=Layout(width='40%', height='40px', margin='10px')\n",
    ")\n",
    "\n",
    "button = Button(\n",
    "    description='Send',\n",
    "    tooltip='Click to Send',\n",
    "    disabled=False,\n",
    "    button_style='primary',\n",
    "    icon='check',\n",
    "    layout=Layout(width='60%', height='40px', margin='10px', justify_content='center')\n",
    ")"
   ]
  },
  {
   "cell_type": "markdown",
   "metadata": {},
   "source": [
    "## Implement Widget Functionalities"
   ]
  },
  {
   "cell_type": "code",
   "execution_count": 28,
   "metadata": {
    "execution": {
     "iopub.execute_input": "2025-02-17T23:49:46.860567Z",
     "iopub.status.busy": "2025-02-17T23:49:46.860243Z",
     "iopub.status.idle": "2025-02-17T23:49:46.877817Z",
     "shell.execute_reply": "2025-02-17T23:49:46.876786Z",
     "shell.execute_reply.started": "2025-02-17T23:49:46.860542Z"
    },
    "trusted": true
   },
   "outputs": [],
   "source": [
    "from typing import List, Dict, Any\n",
    "from typing_extensions import LiteralString\n",
    "from IPython.display import display\n",
    "\n",
    "chat = gemini.start_chat(history=[])\n",
    "history: List[str] = []\n",
    "\n",
    "def submit_prompt(clicked_button: Button) -> None:\n",
    "    init_prompt, feedback = init_prompt_input.value, feedback_input.value\n",
    "    _clear_inputs()\n",
    "\n",
    "    if init_prompt:\n",
    "        if len(history) > 0:\n",
    "            _clear_history()\n",
    "\n",
    "        response = _send_init_prompt(init_prompt)\n",
    "        _add_to_history(init_prompt, response)\n",
    "        code_display.value = response\n",
    "\n",
    "    elif feedback and len(history) > 0:\n",
    "        improved_response = _send_feedback(feedback)\n",
    "        _add_to_history(feedback, improved_response)\n",
    "        code_display.value = improved_response\n",
    "\n",
    "    _update_history_display()\n",
    "    _update_dropdown()\n",
    "\n",
    "def _clear_inputs() -> None:\n",
    "    init_prompt_input.value = \"\"\n",
    "    feedback_input.value = \"\"\n",
    "\n",
    "def _clear_history() -> None:\n",
    "    chat.history.clear()\n",
    "    history.clear()\n",
    "    version_dropdown.options = tuple()\n",
    "    history_display.value = \"\"\n",
    "\n",
    "def _send_init_prompt(user_input: str) -> LiteralString:\n",
    "    prompt = f\"Answer to the following prompt with only the code in Python: {user_input}\"\n",
    "    response = chat.send_message(prompt)\n",
    "    content = _remove_md(response.text)\n",
    "    return content\n",
    "\n",
    "def _add_to_history(prompt: str, response: LiteralString) -> None:\n",
    "    history.insert(0, f\"[{len(history) + 1}] {prompt}\\n\\nResponse:\\n{response}\")\n",
    "\n",
    "def _send_feedback(user_input: str) -> LiteralString:\n",
    "    prompt = f\"Adjust the previous code following this instruction: {user_input}\"\n",
    "    response = chat.send_message(prompt)\n",
    "    content = _remove_md(response.text)\n",
    "    return content\n",
    "\n",
    "def _remove_md(text: LiteralString) -> LiteralString:\n",
    "    return text[len(\"```python\\n\") : -len(\"```\")]\n",
    "\n",
    "def _update_history_display() -> None:\n",
    "    history_display.value = \"\\n\\n\\n\".join(history)\n",
    "\n",
    "def _update_dropdown() -> None:\n",
    "    qt_versions = len(history)\n",
    "    version_dropdown.options = tuple(f\"Version {index}\" for index in range(qt_versions, 1-1, -1))\n",
    "\n",
    "def on_version_select(change: Dict[str, Any]) -> None:\n",
    "    if not change['new']:\n",
    "        return\n",
    "\n",
    "    chosen_version = int(change['new'].split(\" \")[-1])\n",
    "    qt_versions = len(history)\n",
    "\n",
    "    while qt_versions > chosen_version:\n",
    "        for _ in range(2):\n",
    "            chat.history.pop()\n",
    "        history.pop(0)\n",
    "        qt_versions-=1\n",
    "    \n",
    "    _update_dropdown()\n",
    "    code_display.value = _remove_md(chat.history[-1].parts[0].text)\n",
    "    _update_history_display()"
   ]
  },
  {
   "cell_type": "markdown",
   "metadata": {},
   "source": [
    "## Add Functionalities to the Widgets"
   ]
  },
  {
   "cell_type": "code",
   "execution_count": 29,
   "metadata": {
    "execution": {
     "iopub.execute_input": "2025-02-17T23:49:46.879128Z",
     "iopub.status.busy": "2025-02-17T23:49:46.878838Z",
     "iopub.status.idle": "2025-02-17T23:49:46.897474Z",
     "shell.execute_reply": "2025-02-17T23:49:46.896421Z",
     "shell.execute_reply.started": "2025-02-17T23:49:46.879076Z"
    },
    "trusted": true
   },
   "outputs": [],
   "source": [
    "version_dropdown.observe(on_version_select, names='value')\n",
    "button.on_click(submit_prompt)"
   ]
  },
  {
   "cell_type": "markdown",
   "metadata": {},
   "source": [
    "## Show Widgets"
   ]
  },
  {
   "cell_type": "code",
   "execution_count": 30,
   "metadata": {
    "execution": {
     "iopub.execute_input": "2025-02-17T23:49:46.898813Z",
     "iopub.status.busy": "2025-02-17T23:49:46.898459Z",
     "iopub.status.idle": "2025-02-17T23:49:46.926640Z",
     "shell.execute_reply": "2025-02-17T23:49:46.925380Z",
     "shell.execute_reply.started": "2025-02-17T23:49:46.898779Z"
    },
    "trusted": true
   },
   "outputs": [
    {
     "data": {
      "application/vnd.jupyter.widget-view+json": {
       "model_id": "b2baccf490d64abd82e58968e211961d",
       "version_major": 2,
       "version_minor": 0
      },
      "text/plain": [
       "VBox(children=(HBox(children=(Text(value='', description='Code Description:', layout=Layout(border_bottom='sol…"
      ]
     },
     "metadata": {},
     "output_type": "display_data"
    }
   ],
   "source": [
    "from ipywidgets import VBox, HBox\n",
    "\n",
    "layout = VBox([\n",
    "    HBox([init_prompt_input, feedback_input]),\n",
    "    HBox([button,version_dropdown]),\n",
    "    HBox([code_display, history_display])\n",
    "])\n",
    "\n",
    "display(layout)"
   ]
  }
 ],
 "metadata": {
  "kaggle": {
   "accelerator": "none",
   "dataSources": [],
   "dockerImageVersionId": 30886,
   "isGpuEnabled": false,
   "isInternetEnabled": true,
   "language": "python",
   "sourceType": "notebook"
  },
  "kernelspec": {
   "display_name": ".venv",
   "language": "python",
   "name": "python3"
  },
  "language_info": {
   "codemirror_mode": {
    "name": "ipython",
    "version": 3
   },
   "file_extension": ".py",
   "mimetype": "text/x-python",
   "name": "python",
   "nbconvert_exporter": "python",
   "pygments_lexer": "ipython3",
   "version": "3.12.3"
  }
 },
 "nbformat": 4,
 "nbformat_minor": 4
}
